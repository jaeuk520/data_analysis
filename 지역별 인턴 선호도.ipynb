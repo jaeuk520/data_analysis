{
 "cells": [
  {
   "cell_type": "code",
   "execution_count": 20,
   "id": "fc449375-10bc-46e1-8238-b9dfbb328008",
   "metadata": {},
   "outputs": [
    {
     "data": {
      "image/png": "[encoded data removed]",
      "text/plain": [
       "<Figure size 640x480 with 1 Axes>"
      ]
     },
     "metadata": {},
     "output_type": "display_data"
    }
   ],
   "source": [
    "import csv\n",
    "import matplotlib.pyplot as plt\n",
    "import matplotlib\n",
    "import numpy as np\n",
    "\n",
    "def main():\n",
    "    f = open('1.병원정보서비스의 복사본.csv','r')\n",
    "    data = csv.reader(f)\n",
    "    next(data)\n",
    "    cities = []\n",
    "    cities_intern_cnt = dict()\n",
    "    cities_doctor_cnt = dict()\n",
    "    intern_cnt = 0\n",
    "    doctor_cnt = 0\n",
    "    for row in data:\n",
    "        city = row[5]\n",
    "        intern_cnt = int(row[16]) + int(row[20]) + int(row[24]) + intern_cnt\n",
    "        doctor_cnt = int(row[14]) + doctor_cnt\n",
    "        if city not in cities:\n",
    "            cities.append(city)\n",
    "            cities_intern_cnt[city] = int(row[16]) + int(row[20]) + int(row[24])\n",
    "            cities_doctor_cnt[city] = int(row[14])\n",
    "        else:\n",
    "            cnt = int(cities_intern_cnt.get(city)) + int(row[16]) + int(row[20]) + int(row[24])\n",
    "            cities_intern_cnt[city] = cnt\n",
    "            cnt = int(cities_doctor_cnt.get(city)) + int(row[14])\n",
    "            cities_doctor_cnt[city] = cnt\n",
    "            \n",
    "    #print(cities)\n",
    "    #print(cities_intern_cnt)\n",
    "    #print(cities_doctor_cnt)\n",
    "    #print(intern_cnt)\n",
    "    #print(doctor_cnt)\n",
    "\n",
    "    intern_cnt_list = list(cities_intern_cnt.values())\n",
    "    doctor_cnt_list = list(cities_doctor_cnt.values())\n",
    "    #print(intern_cnt_list)\n",
    "    #print(doctor_cnt_list)\n",
    "    ratio_list = []\n",
    "    for i in range(17):\n",
    "        ratio_list.append((intern_cnt_list[i] / intern_cnt) / (doctor_cnt_list[i]) / doctor_cnt)\n",
    "    #print(ratio_list)\n",
    "\n",
    "    x = np.arange(17)\n",
    "    plt.bar(x, ratio_list, width=0.6)\n",
    "    plt.xticks(x, cities, rotation=90)\n",
    "\n",
    " \n",
    "    plt.show()\n",
    "\n",
    "    #한글 깨짐 해결\n",
    "    matplotlib.rcParams['font.family'] ='Malgun Gothic'\n",
    "    matplotlib.rcParams['axes.unicode_minus'] =False\n",
    "    \n",
    "\n",
    "if __name__==\"__main__\":\n",
    "    main()\n",
    "\n"
   ]
  },
  {
   "cell_type": "code",
   "execution_count": null,
   "id": "00003aa0-69d5-43b4-87cb-b933c12ad1b9",
   "metadata": {},
   "outputs": [],
   "source": []
  }
 ],
 "metadata": {
  "kernelspec": {
   "display_name": "Python 3 (ipykernel)",
   "language": "python",
   "name": "python3"
  },
  "language_info": {
   "codemirror_mode": {
    "name": "ipython",
    "version": 3
   },
   "file_extension": ".py",
   "mimetype": "text/x-python",
   "name": "python",
   "nbconvert_exporter": "python",
   "pygments_lexer": "ipython3",
   "version": "3.9.11"
  }
 },
 "nbformat": 4,
 "nbformat_minor": 5
}
